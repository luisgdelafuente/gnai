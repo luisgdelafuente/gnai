{
  "cells": [
    {
      "cell_type": "code",
      "source": [
        "import requests\n",
        "from bs4 import BeautifulSoup\n",
        "\n",
        "# URL of the .txt file on the web server\n",
        "url = \"https://archive.org/stream/NevilleGoddardWorkbooks/1961_the_law_and_the_promise_djvu.txt\"\n",
        "\n",
        "# Send a GET request to fetch the content of the .txt file\n",
        "response = requests.get(url)\n",
        "\n",
        "# Parse the HTML content\n",
        "soup = BeautifulSoup(response.content, 'html.parser')\n",
        "\n",
        "# Extract the text\n",
        "data = soup.get_text()\n",
        "\n",
        "# Print the cleaned text\n",
        "# print(text)"
      ],
      "metadata": {
        "id": "21WPlm5d8HUW"
      },
      "execution_count": 20,
      "outputs": []
    },
    {
      "cell_type": "code",
      "source": [
        "# Install OpenAI and Langchain to instantiate and manage LLMs, also TikToken and Chroma DB\n",
        "\n",
        "!pip install langchain\n",
        "!pip install openai\n",
        "!pip install chromadb\n",
        "!pip install tiktoken"
      ],
      "metadata": {
        "id": "QldR3UB-Quob"
      },
      "execution_count": null,
      "outputs": []
    },
    {
      "cell_type": "code",
      "execution_count": 3,
      "metadata": {
        "id": "xhXwZaUrD9VJ"
      },
      "outputs": [],
      "source": [
        "# Install all the classes we need:\n",
        "\n",
        "from langchain.embeddings.openai import OpenAIEmbeddings\n",
        "from langchain.embeddings.cohere import CohereEmbeddings\n",
        "from langchain.text_splitter import CharacterTextSplitter\n",
        "from langchain.vectorstores.elastic_vector_search import ElasticVectorSearch\n",
        "from langchain.vectorstores import Chroma\n"
      ]
    },
    {
      "cell_type": "code",
      "source": [
        "# Activate the OpenAI API\n",
        "\n",
        "import os\n",
        "os.environ[\"OPENAI_API_KEY\"] = \"sk-""
      ],
      "metadata": {
        "id": "8t1Hq6BJR-Bb"
      },
      "execution_count": 4,
      "outputs": []
    },
    {
      "cell_type": "markdown",
      "source": [
        "Usually we will have several text files, but in this exercise we are going to split our document into several pieces or chunks and treat each of them as a separate document.\n",
        "\n",
        "The model will have to figure out which part contains the answer to our question. We break this text into multiple parts by assigning each part a maximum length using the commands below."
      ],
      "metadata": {
        "id": "2UZyaA7H5nMM"
      }
    },
    {
      "cell_type": "code",
      "execution_count": null,
      "metadata": {
        "id": "UFSBDV_QD9VJ"
      },
      "outputs": [],
      "source": [
        "# break the single text file into multiple parts (chunks) and treat each part as a different document.\n",
        "# Notice how langchain will try to get as close as possible to the chunk size, but not always possible.\n",
        "\n",
        "text_splitter = CharacterTextSplitter(chunk_size=750, chunk_overlap=0)\n",
        "texts = text_splitter.split_text(data)"
      ]
    },
    {
      "cell_type": "code",
      "execution_count": 26,
      "metadata": {
        "id": "Msze1CBSD9VK",
        "outputId": "fa121c09-a1c6-429f-979e-ed9bdf6d562e",
        "colab": {
          "base_uri": "https://localhost:8080/"
        }
      },
      "outputs": [
        {
          "output_type": "execute_result",
          "data": {
            "text/plain": [
              "319"
            ]
          },
          "metadata": {},
          "execution_count": 26
        }
      ],
      "source": [
        "# Get the number of chunks\n",
        "len(texts)\n"
      ]
    },
    {
      "cell_type": "code",
      "execution_count": null,
      "metadata": {
        "id": "mGQGMz_wD9VK"
      },
      "outputs": [],
      "source": [
        "texts[0],texts[1]"
      ]
    },
    {
      "cell_type": "markdown",
      "source": [
        "Now we create an object that we need to save the embeddings of the various parts of the created text. BUT we want to save this texts ina permanent way so we don´t need to reconstruct them for every query with the obvious waste of resources."
      ],
      "metadata": {
        "id": "taJciStr9MNj"
      }
    },
    {
      "cell_type": "code",
      "execution_count": 27,
      "metadata": {
        "id": "EVeTcOsHD9VL"
      },
      "outputs": [],
      "source": [
        "embeddings = OpenAIEmbeddings()"
      ]
    },
    {
      "cell_type": "code",
      "execution_count": 28,
      "metadata": {
        "id": "CMGcEq_hD9VL"
      },
      "outputs": [],
      "source": [
        "persist_directory = 'db'\n",
        "docsearch = Chroma.from_texts(\n",
        "    texts,\n",
        "    embeddings,\n",
        "    persist_directory = persist_directory,\n",
        "    metadatas=[{\"source\": f\"{i}-pl\"} for i in range(len(texts))]\n",
        "    )"
      ]
    },
    {
      "cell_type": "code",
      "source": [
        "from langchain.chains import RetrievalQAWithSourcesChain"
      ],
      "metadata": {
        "id": "8TUV4hwmVbR5"
      },
      "execution_count": 29,
      "outputs": []
    },
    {
      "cell_type": "code",
      "source": [
        "# Now we want to turn docsearch into a retrieval because that will be its purpose.\n",
        "from langchain import OpenAI\n",
        "\n",
        "#convert the vectorstore to a retriever\n",
        "retriever=docsearch.as_retriever()"
      ],
      "metadata": {
        "id": "AU1qZhnFVbZD"
      },
      "execution_count": 31,
      "outputs": []
    },
    {
      "cell_type": "code",
      "source": [
        "# We can also see the retriever what distance metric it is using; in this case default is similarity.\n",
        "retriever.search_type"
      ],
      "metadata": {
        "id": "TWQbuDo_VhbZ",
        "outputId": "b3ddae98-31db-4440-c0dc-673f2cebc094",
        "colab": {
          "base_uri": "https://localhost:8080/",
          "height": 35
        }
      },
      "execution_count": 33,
      "outputs": [
        {
          "output_type": "execute_result",
          "data": {
            "text/plain": [
              "'similarity'"
            ],
            "application/vnd.google.colaboratory.intrinsic+json": {
              "type": "string"
            }
          },
          "metadata": {},
          "execution_count": 33
        }
      ]
    },
    {
      "cell_type": "code",
      "source": [
        "# Finally, we can ask the retriever to take the document that most answers one of our queries.\n",
        "# The retriever could also take more than one document if necessary.\n",
        "\n",
        "docs = retriever.get_relevant_documents(\"What is the Law?\")\n"
      ],
      "metadata": {
        "id": "KAO8BAKcVlEa"
      },
      "execution_count": 58,
      "outputs": []
    },
    {
      "cell_type": "code",
      "source": [
        "# And these are the docs we are going to use to build the metaprompt to query OpenAI\n",
        "\n",
        "len(docs)\n",
        "docs"
      ],
      "metadata": {
        "id": "HcQxnb8bVnDg",
        "outputId": "61e1a393-2c82-4392-e6ab-5575a0aa572d",
        "colab": {
          "base_uri": "https://localhost:8080/"
        }
      },
      "execution_count": 59,
      "outputs": [
        {
          "output_type": "execute_result",
          "data": {
            "text/plain": [
              "[Document(page_content='The limitation of space does not allow the publication of all the stories in this one \\nvolume. In the difficult task of selecting and organizing this material, Ruth Messenger \\nand Juleene Brainard have been of invaluable assistance. \\n\\n—NEVILLE \\n\\n\\n2 \\n\\nThe Law and The Promise \\n\\nby Neville Goddard \\n\\n\\nTABLE OF CONTENTS \\n\\nChapter 1 - THE LAW: Imagining Creates Reality 4 \\n\\nChapter 2 - DWELL THEREIN 8 \\n\\nChapter 3 - TURN THE WHEEL BACKWARD 15 \\n\\nChapter 4 - THERE IS NO FICTION 21 \\n\\nChapter 5 - SUBTLE THREADS 28 \\n\\nChapter 6 - VISIONARY FANCY 31 \\n\\nChapter 7 - MOODS 3 6 \\n\\nChapter 8 - THROUGH THE LOOKING GLASS 40 \\n\\nChapter 9 - ENTER INTO 4 6 \\n\\nChapter 10 - THINGS WHICH DO NOT APPEAR 50 \\n\\nChapter 11 - THE POTTER 53 \\n\\nChapter 12 - ATTITUDES 58', metadata={'source': '6-pl'}),\n",
              " Document(page_content='Volunteer\\n\\nPeople\\n\\n\\n          Full text of \"Neville Goddard Workbooks\"\\n        \\n\\nSee other formats\\n\\n\\nThe Law and \\nThe Promise \\n\\nG. & J. PUBLISHING CO. \\nLos Angeles, California. 1961 \\n\\n\\nNeville Goddard \\n\\n\\n1 \\n\\nThe Law and The Promise \\n\\nby Neville Goddard \\n\\nAnd now, go, write it before them on a tablet, and inscribe it in a book, that it may be \\nfor the time to come as a witness forever. — ISAIAH 30:8 \\n\\nI want to express my sincere appreciation to the hundreds of men and women who \\nhave written me, telling me of their use of imagination to create a greater good for \\nothers as well as for themselves; that we may be mutually encouraged by each other\\'s \\nfaith. A faith which was loyal to the unseen reality of their imaginal acts.', metadata={'source': '5-pl'}),\n",
              " Document(page_content='Chapter 13 - ALL TRIVIA 62 \\n\\nChapter 14 - THE CREATIVE MOMENT 6 6 \\n\\nChapter 15 - THE PROMISE: Four Mystical Experiences .. 7 0 \\n\\n\\nThis ebook presentation Copyright ©2006 \\nwww.Self-Improvement-eBooks.com \\nAll Rights Reserved \\n\\n\\n3 \\n\\n\\nCHAPTER 1 \\n\\n\\n\"THE LAW\\'\\' \\n\\nIMAGINING CREATES REALITY \\n\\n\" Man is all Imagination. God is Man and exists in us and we in Him . . . The Eternal \\nBody of Man is the Imagination, that is, God, Himself\" — Blake', metadata={'source': '7-pl'}),\n",
              " Document(page_content='Life on earth is a kindergarten for image making. The bigness or littleness of the \\nobject to be created is not in itself important. \"The great and golden rule of art, as well \\nas of life,\" said Blake, \"is this: That the more distinct, sharp and wirey the bounding \\nline, the more perfect the work of art, and the less keen and sharp, the greater is the \\nevidence of weak imitation. What is it that builds a house and plants a garden but the \\ndefinite and determinate? . . . leave out this line, and you leave out life itself.\"', metadata={'source': '254-pl'})]"
            ]
          },
          "metadata": {},
          "execution_count": 59
        }
      ]
    },
    {
      "cell_type": "markdown",
      "source": [
        "Now what we can do is to create an agent. An agent is able to perform a series of steps to solve the user’s task on its own. Our agent will have to go and look through the documents available to it where the answer to the question asked is and return that document."
      ],
      "metadata": {
        "id": "8YnS7RS0-CYQ"
      }
    },
    {
      "cell_type": "code",
      "source": [
        "#create the chain to answer questions\n",
        "chain = RetrievalQAWithSourcesChain.from_chain_type(\n",
        "    llm = OpenAI(temperature=0),\n",
        "    chain_type=\"stuff\",\n",
        "    retriever=retriever,\n",
        "    return_source_documents = True\n",
        "    )"
      ],
      "metadata": {
        "id": "Lob216ynVwfy"
      },
      "execution_count": 60,
      "outputs": []
    },
    {
      "cell_type": "markdown",
      "source": [
        "If we want, we can also create a function to post-process the agent’s output so that it is more readable."
      ],
      "metadata": {
        "id": "uSFLTAz1-_c9"
      }
    },
    {
      "cell_type": "code",
      "source": [
        "def process_result(result):\n",
        "  print(result['answer'])\n",
        "  print(\"\\n\\n Sources : \",result['sources'] )\n",
        "  print(result['sources'])"
      ],
      "metadata": {
        "id": "Ei5Yw19qVzrA"
      },
      "execution_count": 61,
      "outputs": []
    },
    {
      "cell_type": "markdown",
      "source": [
        "Now everything is finally ready, we can use our agent and go and answer our queries!"
      ],
      "metadata": {
        "id": "5KoQt3N6-u9W"
      }
    },
    {
      "cell_type": "code",
      "source": [
        "question = \"Explain in a few separate paragraphs what is the Law according to Neville Goddard\"\n",
        "result = chain({\"question\": question})\n",
        "process_result(result)"
      ],
      "metadata": {
        "id": "IMnzwUPUV2bH",
        "outputId": "7d6d5b69-96b3-4bf4-90af-c8fdb5eaf604",
        "colab": {
          "base_uri": "https://localhost:8080/"
        }
      },
      "execution_count": 63,
      "outputs": [
        {
          "output_type": "stream",
          "name": "stdout",
          "text": [
            " Neville Goddard's Law states that \"Imagining Creates Reality\". He believed that by using imagination, one can create a greater good for themselves and others. He encouraged people to use their imaginal acts to be loyal to the unseen reality.\n",
            "\n",
            "\n",
            "\n",
            " Sources :  6-pl, 5-pl, 7-pl, 26-pl\n",
            "6-pl, 5-pl, 7-pl, 26-pl\n"
          ]
        }
      ]
    }
  ],
  "metadata": {
    "kernelspec": {
      "display_name": "base",
      "language": "python",
      "name": "python3"
    },
    "language_info": {
      "codemirror_mode": {
        "name": "ipython",
        "version": 3
      },
      "file_extension": ".py",
      "mimetype": "text/x-python",
      "name": "python",
      "nbconvert_exporter": "python",
      "pygments_lexer": "ipython3",
      "version": "3.9.13"
    },
    "orig_nbformat": 4,
    "colab": {
      "provenance": []
    }
  },
  "nbformat": 4,
  "nbformat_minor": 0
}
