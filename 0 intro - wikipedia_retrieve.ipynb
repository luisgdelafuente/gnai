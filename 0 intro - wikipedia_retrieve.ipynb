{
  "cells": [
    {
      "cell_type": "markdown",
      "metadata": {
        "id": "MI8G98nktblz"
      },
      "source": [
        "# Retrieving info from the Wikipedia"
      ]
    },
    {
      "cell_type": "code",
      "execution_count": 1,
      "metadata": {
        "id": "had9xoCjtbl5"
      },
      "outputs": [
        {
          "ename": "ModuleNotFoundError",
          "evalue": "No module named 'mwclient'",
          "output_type": "error",
          "traceback": [
            "\u001b[1;31m---------------------------------------------------------------------------\u001b[0m",
            "\u001b[1;31mModuleNotFoundError\u001b[0m                       Traceback (most recent call last)",
            "\u001b[1;32mluisgdelafuente\\gnai\\embeddings_wikipedia_retrieve.ipynb Cell 2\u001b[0m line \u001b[0;36m3\n\u001b[0;32m      <a href='vscode-notebook-cell://github/luisgdelafuente/gnai/embeddings_wikipedia_retrieve.ipynb#W1sdnNjb2RlLXZmcw%3D%3D?line=0'>1</a>\u001b[0m \u001b[39m# Testing the mwclient library\u001b[39;00m\n\u001b[1;32m----> <a href='vscode-notebook-cell://github/luisgdelafuente/gnai/embeddings_wikipedia_retrieve.ipynb#W1sdnNjb2RlLXZmcw%3D%3D?line=2'>3</a>\u001b[0m \u001b[39mimport\u001b[39;00m \u001b[39mmwclient\u001b[39;00m\n\u001b[0;32m      <a href='vscode-notebook-cell://github/luisgdelafuente/gnai/embeddings_wikipedia_retrieve.ipynb#W1sdnNjb2RlLXZmcw%3D%3D?line=4'>5</a>\u001b[0m \u001b[39m# Connect to Wikipedia\u001b[39;00m\n\u001b[0;32m      <a href='vscode-notebook-cell://github/luisgdelafuente/gnai/embeddings_wikipedia_retrieve.ipynb#W1sdnNjb2RlLXZmcw%3D%3D?line=5'>6</a>\u001b[0m site \u001b[39m=\u001b[39m mwclient\u001b[39m.\u001b[39mSite(\u001b[39m'\u001b[39m\u001b[39men.wikipedia.org\u001b[39m\u001b[39m'\u001b[39m)\n",
            "\u001b[1;31mModuleNotFoundError\u001b[0m: No module named 'mwclient'"
          ]
        }
      ],
      "source": [
        "# Testing the mwclient library\n",
        "\n",
        "import mwclient\n",
        "\n",
        "# Connect to Wikipedia\n",
        "site = mwclient.Site('en.wikipedia.org')\n",
        "\n",
        "# Fetch a page\n",
        "page = site.pages['OpenAI']\n",
        "\n",
        "# Retrieve the page content\n",
        "content = page.text()\n",
        "\n",
        "# Print the page content\n",
        "print(content)"
      ]
    }
  ],
  "metadata": {
    "colab": {
      "provenance": []
    },
    "kernelspec": {
      "display_name": "base",
      "language": "python",
      "name": "python3"
    },
    "language_info": {
      "codemirror_mode": {
        "name": "ipython",
        "version": 3
      },
      "file_extension": ".py",
      "mimetype": "text/x-python",
      "name": "python",
      "nbconvert_exporter": "python",
      "pygments_lexer": "ipython3",
      "version": "3.11.4"
    },
    "orig_nbformat": 4
  },
  "nbformat": 4,
  "nbformat_minor": 0
}
