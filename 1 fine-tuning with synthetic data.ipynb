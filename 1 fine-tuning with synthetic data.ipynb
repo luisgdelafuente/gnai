{
 "cells": [
  {
   "cell_type": "markdown",
   "metadata": {},
   "source": [
    "###  Training GPT-3 on synthetic dataset"
   ]
  },
  {
   "cell_type": "code",
   "execution_count": 1,
   "metadata": {},
   "outputs": [],
   "source": [
    "# Creating some synthetic data for fine-tuning \n",
    "# We are going to create serveral characters for video games in here: \n",
    "\n",
    "import os\n",
    "import openai\n",
    "import pandas as pd\n",
    "\n",
    "# Set your OpenAI API key\n",
    "openai.api_key = os.getenv(\"OPENAI_API_KEY\")\n",
    "\n",
    "# Define input values\n",
    "ages = ['30', '40', '50']\n",
    "genders = ['man', 'woman']\n",
    "superpowers = ['read in the thoughts', 'turning lead into gold', 'immortality'] \n",
    "\n",
    "# Create an empty list to store results\n",
    "results = []\n",
    "\n",
    "# Loop through input values\n",
    "record_number = 1\n",
    "for age in ages:\n",
    "    for gender in genders:\n",
    "        for power in superpowers:\n",
    "            # Define the prompt with placeholders\n",
    "            prompt = f\"Imagine a complete and detailed description of a {age}-year-old {gender} fictional character who has the superpower of {power}. Write out the entire description in a maximum of 100 words in great detail.\"\n",
    "\n",
    "            # Generate the response using OpenAI's GPT-3 model\n",
    "            response = openai.Completion.create(\n",
    "                model=\"text-davinci-003\",\n",
    "                prompt=prompt,\n",
    "                temperature=0.7,  # Adjust temperature for response creativity\n",
    "                max_tokens=100,  # Limit response to 100 tokens (adjust as needed)\n",
    "                n=1,  # Generate a single response\n",
    "                stop=None,  # Let the model determine when to stop\n",
    "            )\n",
    "\n",
    "            # Extract and store the response text\n",
    "            response_text = response.choices[0].text.strip()\n",
    "\n",
    "            # Create a subprompt string\n",
    "            subprompt = f\"{age}, {gender}, {power}\"\n",
    "\n",
    "            # Store the results in a dictionary\n",
    "            result = {\n",
    "                'record number': record_number,\n",
    "                'age': age,\n",
    "                'gender': gender,\n",
    "                'power': power,\n",
    "                'prompt': prompt,\n",
    "                'subprompt': subprompt,\n",
    "                'response': response_text\n",
    "            }\n",
    "\n",
    "            results.append(result)\n",
    "\n",
    "            # Increment the record number\n",
    "            record_number += 1\n",
    "\n",
    "# Create a DataFrame from the results\n",
    "df = pd.DataFrame(results)\n",
    "\n",
    "# Save the DataFrame to a CSV file\n",
    "df.to_csv(\"character_descriptions.csv\", index=False)\n"
   ]
  },
  {
   "cell_type": "code",
   "execution_count": 2,
   "metadata": {},
   "outputs": [
    {
     "data": {
      "text/plain": [
       "CompletedProcess(args=['openai', 'api', 'fine_tunes.create', '--training_file', 'prepared_data_prepared.jsonl', '--model', 'davinci', '--suffix', '\"SuperHero\"'], returncode=0)"
      ]
     },
     "execution_count": 2,
     "metadata": {},
     "output_type": "execute_result"
    }
   ],
   "source": [
    "import pandas as pd\n",
    "import openai\n",
    "import subprocess\n",
    "\n",
    "# read the previous file with the generated data \n",
    "df = pd.read_csv(\"character_descriptions.csv\")\n",
    "\n",
    "# now we are using the parameters of the prompt (subprompt) as final prompt for the training. \n",
    "prepared_data = df.loc[:,['subprompt','response']]\n",
    "prepared_data.rename(columns={'subprompt':'prompt', 'response':'completion'}, inplace=True)\n",
    "prepared_data.to_csv('prepared_data.csv',index=False)\n",
    "\n",
    "## prepared_data.csv --> prepared_data_prepared.json\n",
    "subprocess.run('openai tools fine_tunes.prepare_data --file prepared_data.csv --quiet'.split())\n",
    "\n",
    "## Start fine-tuning\n",
    "subprocess.run('openai api fine_tunes.create --training_file prepared_data_prepared.jsonl --model davinci --suffix \"SuperHero\"'.split())"
   ]
  },
  {
   "cell_type": "code",
   "execution_count": 4,
   "metadata": {},
   "outputs": [
    {
     "name": "stdout",
     "output_type": "stream",
     "text": [
      "Fine-tunning model with jobID: ft-Xx7IYCjGUxBDecEQCTs8oV2n.\n",
      "Training Response: {\n",
      "  \"object\": \"fine-tune\",\n",
      "  \"id\": \"ft-Xx7IYCjGUxBDecEQCTs8oV2n\",\n",
      "  \"hyperparams\": {\n",
      "    \"n_epochs\": 15,\n",
      "    \"batch_size\": 3,\n",
      "    \"prompt_loss_weight\": 0.01,\n",
      "    \"learning_rate_multiplier\": 0.3\n",
      "  },\n",
      "  \"organization_id\": \"org-6eT84cKNSkcX5WqEyFAc5rPD\",\n",
      "  \"model\": \"davinci\",\n",
      "  \"training_files\": [\n",
      "    {\n",
      "      \"object\": \"file\",\n",
      "      \"id\": \"file-2sCcE5tGNelmNGrMElshJlMw\",\n",
      "      \"purpose\": \"fine-tune\",\n",
      "      \"filename\": \"file\",\n",
      "      \"bytes\": 1356,\n",
      "      \"created_at\": 1696240295,\n",
      "      \"status\": \"processed\",\n",
      "      \"status_details\": null\n",
      "    }\n",
      "  ],\n",
      "  \"validation_files\": [\n",
      "    {\n",
      "      \"object\": \"file\",\n",
      "      \"id\": \"file-YdohajIDRBOTOZn0wRphiJ8z\",\n",
      "      \"purpose\": \"fine-tune\",\n",
      "      \"filename\": \"file\",\n",
      "      \"bytes\": 1044,\n",
      "      \"created_at\": 1696240296,\n",
      "      \"status\": \"processed\",\n",
      "      \"status_details\": null\n",
      "    }\n",
      "  ],\n",
      "  \"result_files\": [],\n",
      "  \"created_at\": 1696414011,\n",
      "  \"updated_at\": 1696414011,\n",
      "  \"status\": \"pending\",\n",
      "  \"fine_tuned_model\": null,\n",
      "  \"events\": [\n",
      "    {\n",
      "      \"object\": \"fine-tune-event\",\n",
      "      \"level\": \"info\",\n",
      "      \"message\": \"Created fine-tune: ft-Xx7IYCjGUxBDecEQCTs8oV2n\",\n",
      "      \"created_at\": 1696414011\n",
      "    }\n",
      "  ]\n",
      "}\n",
      "Training Status: pending\n"
     ]
    }
   ],
   "source": [
    "create_args = {\n",
    "\t\"training_file\": \"file-2sCcE5tGNelmNGrMElshJlMw\",\n",
    "\t\"validation_file\": \"file-YdohajIDRBOTOZn0wRphiJ8z\",\n",
    "\t\"model\": \"davinci\",\n",
    "\t\"n_epochs\": 15,\n",
    "\t\"batch_size\": 3,\n",
    "\t\"learning_rate_multiplier\": 0.3\n",
    "}\n",
    "\n",
    "response = openai.FineTune.create(**create_args)\n",
    "job_id = response[\"id\"]\n",
    "status = response[\"status\"]\n",
    "\n",
    "print(f'Fine-tunning model with jobID: {job_id}.')\n",
    "print(f\"Training Response: {response}\")\n",
    "print(f\"Training Status: {status}\")"
   ]
  },
  {
   "cell_type": "code",
   "execution_count": 5,
   "metadata": {},
   "outputs": [
    {
     "name": "stdout",
     "output_type": "stream",
     "text": [
      "Streaming events for the fine-tuning job: ft-Xx7IYCjGUxBDecEQCTs8oV2n\n",
      "2023-10-04 12:06:51 Created fine-tune: ft-Xx7IYCjGUxBDecEQCTs8oV2n\n",
      "Stream interrupted (client disconnected).\n"
     ]
    }
   ],
   "source": [
    "# This pending status does not provide any relevant information.\n",
    "# However, we can have more insight into the training process by running the following code:\n",
    "\n",
    "import signal\n",
    "import datetime\n",
    "\n",
    "def signal_handler(sig, frame):\n",
    "    status = openai.FineTune.retrieve(job_id).status\n",
    "    print(f\"Stream interrupted. Job is still {status}.\")\n",
    "    return\n",
    "\n",
    "print(f'Streaming events for the fine-tuning job: {job_id}')\n",
    "signal.signal(signal.SIGINT, signal_handler)\n",
    "\n",
    "events = openai.FineTune.stream_events(job_id)\n",
    "try:\n",
    "    for event in events:\n",
    "        print(f'{datetime.datetime.fromtimestamp(event[\"created_at\"])} {event[\"message\"]}')\n",
    "\n",
    "except Exception:\n",
    "    print(\"Stream interrupted (client disconnected).\")\n"
   ]
  },
  {
   "cell_type": "code",
   "execution_count": 18,
   "metadata": {},
   "outputs": [
    {
     "name": "stdout",
     "output_type": "stream",
     "text": [
      "\n",
      "He has a lean and athletic build, his skin is a deep bronze and his eyes are an intense sapphire blue. His hair is dark and his face is covered in a short but distinct stubble. He has a confident and charismatic presence and can often be seen wearing a large and warm smile on his face. He wears mostly plain clothing - a simple t-shirt and jeans on most occasions, as well as a leather jacket on cooler days. He has a distinct style that is effortlessly cool and draws the attention of everyone around him. He moves with confidence and poise and his strength is limitless. He is the perfect example of immortality - he never gets sick and can heal his wounds at will. He can also control the elements and the weather to a certain extent. He has the powers of super strength and endurance, high levels of endurance and an accelerated healing factor. His senses are stronger than a normal human's, he can read people's emotions and \n"
     ]
    }
   ],
   "source": [
    "import os\n",
    "import openai\n",
    "\n",
    "openai.api_key = os.getenv(\"OPENAI_API_KEY\")\n",
    "\n",
    "response = openai.Completion.create(\n",
    "  model=\"davinci:ft-hal149:superhero-2023-10-04-09-56-47\",\n",
    "  prompt=\"18, man, inmortality ->\\n\",\n",
    "  temperature=0.7,\n",
    "  max_tokens=500,\n",
    "  top_p=1,\n",
    "  frequency_penalty=0,\n",
    "  presence_penalty=0,\n",
    "  stop=[\"END\"]\n",
    ")\n",
    "\n",
    "text = response[\"choices\"][0][\"text\"]\n",
    "print(text)"
   ]
  }
 ],
 "metadata": {
  "kernelspec": {
   "display_name": "Python 3",
   "language": "python",
   "name": "python3"
  },
  "language_info": {
   "codemirror_mode": {
    "name": "ipython",
    "version": 3
   },
   "file_extension": ".py",
   "mimetype": "text/x-python",
   "name": "python",
   "nbconvert_exporter": "python",
   "pygments_lexer": "ipython3",
   "version": "3.11.4"
  },
  "orig_nbformat": 4
 },
 "nbformat": 4,
 "nbformat_minor": 2
}
