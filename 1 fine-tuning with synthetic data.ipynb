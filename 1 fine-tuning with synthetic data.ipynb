{
 "cells": [
  {
   "cell_type": "markdown",
   "metadata": {},
   "source": [
    "###  Training GPT-3 on synthetic dataset"
   ]
  },
  {
   "cell_type": "code",
   "execution_count": 2,
   "metadata": {},
   "outputs": [],
   "source": [
    "# Creating some synthetic data for fine-tuning \n",
    "# We are going to create serveral characters for video games in here: \n",
    "\n",
    "import os\n",
    "import openai\n",
    "import pandas as pd\n",
    "\n",
    "# Set your OpenAI API key\n",
    "openai.api_key = os.getenv(\"OPENAI_API_KEY\")\n",
    "\n",
    "# Define input values\n",
    "ages = ['30', '40', '50', '60']\n",
    "genders = ['man', 'woman']\n",
    "superpowers = ['invisibility', 'read in the thoughts', 'turning lead into gold', 'immortality'] \n",
    "\n",
    "# Create an empty list to store results\n",
    "results = []\n",
    "\n",
    "# Loop through input values\n",
    "record_number = 1\n",
    "for age in ages:\n",
    "    for gender in genders:\n",
    "        for power in superpowers:\n",
    "            # Define the prompt with placeholders\n",
    "            prompt = f\"Imagine a complete and detailed description of a {age}-year-old {gender} fictional character who has the superpower of {power}. Write out the entire description in a maximum of 100 words in great detail.\"\n",
    "\n",
    "            # Generate the response using OpenAI's GPT-3 model\n",
    "            response = openai.Completion.create(\n",
    "                model=\"text-davinci-003\",\n",
    "                prompt=prompt,\n",
    "                temperature=0.7,  # Adjust temperature for response creativity\n",
    "                max_tokens=100,  # Limit response to 100 tokens (adjust as needed)\n",
    "                n=1,  # Generate a single response\n",
    "                stop=None,  # Let the model determine when to stop\n",
    "            )\n",
    "\n",
    "            # Extract and store the response text\n",
    "            response_text = response.choices[0].text.strip()\n",
    "\n",
    "            # Create a subprompt string\n",
    "            subprompt = f\"{age}, {gender}, {power}\"\n",
    "\n",
    "            # Store the results in a dictionary\n",
    "            result = {\n",
    "                'record number': record_number,\n",
    "                'age': age,\n",
    "                'gender': gender,\n",
    "                'power': power,\n",
    "                'prompt': prompt,\n",
    "                'subprompt': subprompt,\n",
    "                'response': response_text\n",
    "            }\n",
    "\n",
    "            results.append(result)\n",
    "\n",
    "            # Increment the record number\n",
    "            record_number += 1\n",
    "\n",
    "# Create a DataFrame from the results\n",
    "df = pd.DataFrame(results)\n",
    "\n",
    "# Save the DataFrame to a CSV file\n",
    "df.to_csv(\"character_descriptions.csv\", index=False)\n"
   ]
  },
  {
   "cell_type": "code",
   "execution_count": 5,
   "metadata": {},
   "outputs": [],
   "source": [
    "import pandas as pd\n",
    "import openai\n",
    "import subprocess\n",
    "\n",
    "# read the previous file with the generated data \n",
    "df = pd.read_csv(\"character_descriptions.csv\")\n",
    "\n",
    "# now we are using the parameters of the prompt (subprompt) as final prompt for the training. \n",
    "prepared_data = df.loc[:,['subprompt','response']]\n",
    "prepared_data.rename(columns={'subprompt':'prompt', 'response':'completion'}, inplace=True)\n",
    "prepared_data.to_csv('prepared_data.csv',index=False)\n",
    "\n",
    "## prepared_data.csv --> prepared_data_prepared.json\n",
    "subprocess.run('openai tools fine_tunes.prepare_data --file prepared_data.csv --quiet'.split())\n",
    "\n",
    "## Start fine-tuning\n",
    "subprocess.run('openai api fine_tunes.create --training_file prepared_data_prepared.jsonl --model davinci --suffix \"SuperHero\"'.split())"
   ]
  },
  {
   "cell_type": "code",
   "execution_count": null,
   "metadata": {},
   "outputs": [],
   "source": []
  }
 ],
 "metadata": {
  "kernelspec": {
   "display_name": "Python 3",
   "language": "python",
   "name": "python3"
  },
  "language_info": {
   "codemirror_mode": {
    "name": "ipython",
    "version": 3
   },
   "file_extension": ".py",
   "mimetype": "text/x-python",
   "name": "python",
   "nbconvert_exporter": "python",
   "pygments_lexer": "ipython3",
   "version": "3.11.4"
  },
  "orig_nbformat": 4
 },
 "nbformat": 4,
 "nbformat_minor": 2
}
