{
 "cells": [
  {
   "cell_type": "markdown",
   "metadata": {},
   "source": [
    "### finetuning samples / exercise\n",
    "\n",
    "https://stephenslee.medium.com/unleashing-the-power-of-openais-gpt-3-a-guide-to-fine-tuning-your-model-in-python-1aaca9db8a80  "
   ]
  }
 ],
 "metadata": {
  "language_info": {
   "name": "python"
  }
 },
 "nbformat": 4,
 "nbformat_minor": 2
}
