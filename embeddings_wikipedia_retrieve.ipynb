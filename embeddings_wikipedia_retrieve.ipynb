{
  "cells": [
    {
      "cell_type": "markdown",
      "metadata": {
        "id": "MI8G98nktblz"
      },
      "source": [
        "# Retrieving info from the Wikipedia"
      ]
    },
    {
      "cell_type": "code",
      "execution_count": null,
      "metadata": {
        "id": "had9xoCjtbl5"
      },
      "outputs": [],
      "source": [
        "# Testing the mwclient library\n",
        "\n",
        "import mwclient\n",
        "\n",
        "# Connect to Wikipedia\n",
        "site = mwclient.Site('en.wikipedia.org')\n",
        "\n",
        "# Fetch a page\n",
        "page = site.pages['OpenAI']\n",
        "\n",
        "# Retrieve the page content\n",
        "content = page.text()\n",
        "\n",
        "# Print the page content\n",
        "print(content)"
      ]
    }
  ],
  "metadata": {
    "kernelspec": {
      "display_name": "base",
      "language": "python",
      "name": "python3"
    },
    "language_info": {
      "codemirror_mode": {
        "name": "ipython",
        "version": 3
      },
      "file_extension": ".py",
      "mimetype": "text/x-python",
      "name": "python",
      "nbconvert_exporter": "python",
      "pygments_lexer": "ipython3",
      "version": "3.9.13"
    },
    "orig_nbformat": 4,
    "colab": {
      "provenance": []
    }
  },
  "nbformat": 4,
  "nbformat_minor": 0
}