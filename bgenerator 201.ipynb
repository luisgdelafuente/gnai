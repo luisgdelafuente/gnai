{
 "cells": [
  {
   "cell_type": "code",
   "execution_count": null,
   "metadata": {},
   "outputs": [],
   "source": [
    "# In here we are going to test different models for the same prompt. \n",
    "\n",
    "\n",
    "import os\n",
    "import openai\n",
    "import textwrap\n",
    "\n",
    "# Get the API key\n",
    "api_key = os.environ[\"OPENAI_API_KEY\"]\n",
    "\n",
    "# Set up the OpenAI API key\n",
    "openai.api_key = api_key\n",
    "\n",
    "# Define the prompt\n",
    "prompt = \"Crea la idea más innovadora pero realista de negocio para una startup que se te ocurra para poner en práctica en 2024\"\n",
    "\n",
    "# Define the list of models\n",
    "models = [\"gpt-4\",\"gpt-3.5-turbo\", \"gpt-3.5-turbo-0301\", \"gpt-3.5-turbo-0613\"]\n",
    "\n",
    "# Maximum number of words for each response\n",
    "max_words = 100\n",
    "\n",
    "# Generate a response for each model\n",
    "for model in models:\n",
    "    try:\n",
    "        # Generate a response with the API\n",
    "        response = openai.ChatCompletion.create(\n",
    "            model=model, messages=[{\"role\": \"system\", \"content\": \"You are a helpful assistant.\"}, {\"role\": \"user\", \"content\": prompt}]\n",
    "        )\n",
    "\n",
    "        # Extract the response text from the API response\n",
    "        generated_response = response['choices'][0]['message']['content']\n",
    "\n",
    "        # Split the response into words\n",
    "        words = generated_response.split()\n",
    "\n",
    "        # Truncate the response to the maximum number of words\n",
    "        truncated_response = ' '.join(words[:max_words])\n",
    "\n",
    "        # Print the response with text wrapping\n",
    "        wrapped_response = textwrap.fill(truncated_response, width=80)  # Adjust the width as needed\n",
    "        print(f\"Model: {model}\\nResponse: {wrapped_response}\\n\")\n",
    "    except Exception as e:\n",
    "        print(f\"Error for model {model}: {e}\\n\")"
   ]
  }
 ],
 "metadata": {
  "kernelspec": {
   "display_name": "Python 3",
   "language": "python",
   "name": "python3"
  },
  "language_info": {
   "codemirror_mode": {
    "name": "ipython",
    "version": 3
   },
   "file_extension": ".py",
   "mimetype": "text/x-python",
   "name": "python",
   "nbconvert_exporter": "python",
   "pygments_lexer": "ipython3",
   "version": "3.11.4"
  }
 },
 "nbformat": 4,
 "nbformat_minor": 2
}
